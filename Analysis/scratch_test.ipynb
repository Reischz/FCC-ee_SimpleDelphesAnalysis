{
 "cells": [
  {
   "cell_type": "code",
   "execution_count": 111,
   "id": "c7df6fb3",
   "metadata": {},
   "outputs": [
    {
     "name": "stdout",
     "output_type": "stream",
     "text": [
      "Starting analysis...\n"
     ]
    }
   ],
   "source": [
    "#!/usr/bin/env python3\n",
    "import uproot\n",
    "import matplotlib.pyplot as plt\n",
    "import numpy as np\n",
    "import pandas as pd\n",
    "import time\n",
    "\n",
    "# Record the start time\n",
    "start_time = time.perf_counter()\n",
    "print(\"Starting analysis...\")\n",
    "HZ4Lep = uproot.open(\"hz_hww_4l.root\")\n",
    "HZ4Lep_tree = HZ4Lep[\"Delphes\"]\n",
    "column_arrays = [\"MissingET_size\",\"MissingET.Eta\",\"MissingET.Phi\",\"Jet_size\",\"Electron_size\",\"Electron.Eta\",\"Electron.Phi\",\"Muon_size\",\"Muon.Eta\",\"Muon.Phi\"]\n",
    "HZ4Lep_array = HZ4Lep_tree.arrays(column_arrays, library=\"np\", entry_stop=10)"
   ]
  },
  {
   "cell_type": "code",
   "execution_count": 128,
   "id": "a865deae",
   "metadata": {},
   "outputs": [
    {
     "data": {
      "text/plain": [
       "{'MissingET_size': array([1, 1, 1, 1, 1, 1, 1, 1, 1, 1]),\n",
       " 'MissingET.Eta': array([array([0.17216694], dtype=float32),\n",
       "        array([-0.41326123], dtype=float32),\n",
       "        array([-0.70543104], dtype=float32),\n",
       "        array([-1.4994732], dtype=float32),\n",
       "        array([0.37411535], dtype=float32),\n",
       "        array([0.00602116], dtype=float32),\n",
       "        array([-0.14493024], dtype=float32),\n",
       "        array([-0.01158211], dtype=float32),\n",
       "        array([-0.7678567], dtype=float32),\n",
       "        array([0.20850518], dtype=float32)], dtype=object),\n",
       " 'MissingET.Phi': array([array([-2.6963134], dtype=float32),\n",
       "        array([1.0747172], dtype=float32),\n",
       "        array([-2.8127031], dtype=float32),\n",
       "        array([-2.8334908], dtype=float32),\n",
       "        array([-1.6664257], dtype=float32),\n",
       "        array([-0.34192806], dtype=float32),\n",
       "        array([1.3058668], dtype=float32),\n",
       "        array([-1.4994422], dtype=float32),\n",
       "        array([-2.5789049], dtype=float32),\n",
       "        array([0.91387266], dtype=float32)], dtype=object),\n",
       " 'Jet_size': array([2, 2, 3, 2, 2, 2, 3, 2, 3, 2]),\n",
       " 'Electron_size': array([1, 3, 2, 2, 4, 3, 4, 3, 0, 0]),\n",
       " 'Electron.Eta': array([array([-0.9359866], dtype=float32),\n",
       "        array([ 0.09553064, -0.63409066,  0.9847768 ], dtype=float32),\n",
       "        array([-0.3096545 ,  0.82630336], dtype=float32),\n",
       "        array([-0.1393309,  1.9472972], dtype=float32),\n",
       "        array([ 0.41789332, -0.75005233, -0.9773381 ,  0.5798177 ], dtype=float32),\n",
       "        array([ 0.21124168, -0.83132005,  0.7789144 ], dtype=float32),\n",
       "        array([-0.50607204,  0.71755385,  0.4722107 ,  0.6418267 ], dtype=float32),\n",
       "        array([-1.5784721,  0.2221993,  1.5740525], dtype=float32),\n",
       "        array([], dtype=float32), array([], dtype=float32)], dtype=object),\n",
       " 'Electron.Phi': array([array([0.52325255], dtype=float32),\n",
       "        array([ 2.1152663, -1.6176475, -1.4590349], dtype=float32),\n",
       "        array([ 2.1102793, -2.2903023], dtype=float32),\n",
       "        array([ 0.5056228, -1.4953814], dtype=float32),\n",
       "        array([ 1.7474115, -2.4666731, -0.4367092,  0.6943812], dtype=float32),\n",
       "        array([ 1.7535739, -2.2989724, -2.2583284], dtype=float32),\n",
       "        array([-1.3578515, -2.993692 ,  1.3770468, -2.063367 ], dtype=float32),\n",
       "        array([2.362128 , 1.5696392, 0.8348102], dtype=float32),\n",
       "        array([], dtype=float32), array([], dtype=float32)], dtype=object),\n",
       " 'Muon_size': array([1, 1, 0, 1, 0, 0, 0, 1, 4, 4]),\n",
       " 'Muon.Eta': array([array([-0.11814968], dtype=float32),\n",
       "        array([0.14142375], dtype=float32), array([], dtype=float32),\n",
       "        array([1.6043687], dtype=float32), array([], dtype=float32),\n",
       "        array([], dtype=float32), array([], dtype=float32),\n",
       "        array([2.0198126], dtype=float32),\n",
       "        array([ 0.4450179 ,  0.75743407, -1.0444065 ,  0.41462266], dtype=float32),\n",
       "        array([ 0.09579755,  0.6235091 , -0.28310764, -0.98002833], dtype=float32)],\n",
       "       dtype=object),\n",
       " 'Muon.Phi': array([array([-0.8628896], dtype=float32),\n",
       "        array([-1.5912784], dtype=float32), array([], dtype=float32),\n",
       "        array([1.8786007], dtype=float32), array([], dtype=float32),\n",
       "        array([], dtype=float32), array([], dtype=float32),\n",
       "        array([-0.34757325], dtype=float32),\n",
       "        array([ 1.8354077, -0.8209808, -0.7313113, -0.0442621], dtype=float32),\n",
       "        array([-1.4895245,  0.8498185, -2.634674 , -3.1171649], dtype=float32)],\n",
       "       dtype=object)}"
      ]
     },
     "execution_count": 128,
     "metadata": {},
     "output_type": "execute_result"
    }
   ],
   "source": [
    "HZ4Lep_array\n"
   ]
  },
  {
   "cell_type": "code",
   "execution_count": 130,
   "id": "13d437b8",
   "metadata": {},
   "outputs": [
    {
     "data": {
      "text/plain": [
       "1"
      ]
     },
     "execution_count": 130,
     "metadata": {},
     "output_type": "execute_result"
    }
   ],
   "source": [
    "def check_drFromMET(n_array, name):\n",
    "    # Calculate delta R between MET and each lepton\n",
    "    fig=plt.figure()\n",
    "    ax=fig.add_subplot(111)\n",
    "    ax.set_title(f\"Delta R from MET to Leptons - {name}\")\n",
    "    ax.set_xlabel(\"Delta R\")\n",
    "    ax.set_ylabel(\"Count\")\n",
    "    deta_r=np.array([])\n",
    "    for number_event in range(len(n_array)):\n",
    "        enum=n_array[\"Electron_size\"][number_event]\n",
    "        for ie in range(enum):\n",
    "            dphi=n_array[\"Electron.Phi\"][number_event][ie]-n_array[\"MissingET.Phi\"][number_event]\n",
    "            while (dphi > np.pi):\n",
    "                dphi -= 2*np.pi\n",
    "            while (dphi < -np.pi):\n",
    "                dphi += 2*np.pi\n",
    "            dr=np.sqrt((n_array[\"Electron.Eta\"][number_event][ie]-n_array[\"MissingET.Eta\"][number_event])**2 + dphi**2)\n",
    "            deta_r=np.append(deta_r, dr)\n",
    "        mnum=n_array[\"Muon_size\"][number_event]\n",
    "        for im in range(mnum):\n",
    "            dphi=n_array[\"Muon.Phi\"][number_event][im]-n_array[\"MissingET.Phi\"][number_event]\n",
    "            while (dphi > np.pi):\n",
    "                dphi -= 2*np.pi\n",
    "            while (dphi < -np.pi):\n",
    "                dphi += 2*np.pi\n",
    "            dr=np.sqrt((n_array[\"Muon.Eta\"][number_event][im]-n_array[\"MissingET.Eta\"][number_event])**2 + dphi**2)\n",
    "            deta_r=np.append(deta_r, dr) \n",
    "            \n",
    "    ax.hist(deta_r, bins=100, range=(0, 5))\n",
    "\n",
    "    plt.savefig(f\"DeltaR_MET_Leptons_{name}.png\")\n",
    "    plt.close()\n",
    "    return 1\n",
    "check_drFromMET(HZ4Lep_array, \"HZ4Lep\")"
   ]
  },
  {
   "cell_type": "code",
   "execution_count": null,
   "id": "66d42501",
   "metadata": {},
   "outputs": [],
   "source": []
  }
 ],
 "metadata": {
  "kernelspec": {
   "display_name": "HEP",
   "language": "python",
   "name": "python3"
  },
  "language_info": {
   "codemirror_mode": {
    "name": "ipython",
    "version": 3
   },
   "file_extension": ".py",
   "mimetype": "text/x-python",
   "name": "python",
   "nbconvert_exporter": "python",
   "pygments_lexer": "ipython3",
   "version": "3.7.1"
  }
 },
 "nbformat": 4,
 "nbformat_minor": 5
}
