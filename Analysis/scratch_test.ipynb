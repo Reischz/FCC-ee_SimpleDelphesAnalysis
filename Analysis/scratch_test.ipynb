{
 "cells": [
  {
   "cell_type": "code",
   "execution_count": 40,
   "id": "c7df6fb3",
   "metadata": {},
   "outputs": [
    {
     "name": "stdout",
     "output_type": "stream",
     "text": [
      "Starting analysis...\n"
     ]
    }
   ],
   "source": [
    "#!/usr/bin/env python3\n",
    "import uproot\n",
    "import matplotlib.pyplot as plt\n",
    "import numpy as np\n",
    "import pandas as pd\n",
    "import awkward as ak\n",
    "import time\n",
    "\n",
    "# Record the start time\n",
    "start_time = time.perf_counter()\n",
    "print(\"Starting analysis...\")\n",
    "HZ4Lep = uproot.open(\"hz_hww_4l.root\")\n",
    "HZ4Lep_tree = HZ4Lep[\"Delphes\"]\n",
    "column_arrays = [\"MissingET_size\",\"MissingET.Eta\",\"MissingET.Phi\",\"Jet_size\",\"Electron_size\",\"Electron.Eta\",\"Electron.Phi\",\"Muon_size\",\"Muon.Eta\",\"Muon.Phi\"]\n",
    "HZ4Lep_array = HZ4Lep_tree.arrays(column_arrays, library=\"ak\", entry_stop=10)"
   ]
  },
  {
   "cell_type": "code",
   "execution_count": 46,
   "id": "17983d4a",
   "metadata": {},
   "outputs": [
    {
     "data": {
      "text/plain": [
       "<Array [-2.7, 1.07, -2.81, ... -2.58, 0.914] type='10 * ?float32'>"
      ]
     },
     "execution_count": 46,
     "metadata": {},
     "output_type": "execute_result"
    }
   ],
   "source": [
    "# td=HZ4Lep_array[\"MissingET.Phi\"]-HZ4Lep_array[\"Muon.Phi\"]\n",
    "ak.firsts(HZ4Lep_array[\"MissingET.Phi\"])\n"
   ]
  },
  {
   "cell_type": "code",
   "execution_count": 14,
   "id": "f9dacdc8",
   "metadata": {},
   "outputs": [
    {
     "name": "stdout",
     "output_type": "stream",
     "text": [
      "10 * {\"MissingET_size\": int32, \"MissingET.Eta\": var * float32, \"MissingET.Phi\": var * float32, \"Jet_size\": int32, \"Electron_size\": int32, \"Electron.Eta\": var * float32, \"Electron.Phi\": var * float32, \"Muon_size\": int32, \"Muon.Eta\": var * float32, \"Muon.Phi\": var * float32}\n"
     ]
    }
   ],
   "source": [
    "print(ak.type(HZ4Lep_array))"
   ]
  },
  {
   "cell_type": "code",
   "execution_count": 146,
   "id": "13d437b8",
   "metadata": {},
   "outputs": [
    {
     "data": {
      "text/plain": [
       "1"
      ]
     },
     "execution_count": 146,
     "metadata": {},
     "output_type": "execute_result"
    }
   ],
   "source": [
    "def check_drFromMET(n_array, name):\n",
    "    # Calculate delta R between MET and each lepton\n",
    "    fig=plt.figure()\n",
    "    ax=fig.add_subplot(111)\n",
    "    ax.set_title(f\"Delta R from MET to Leptons - {name}\")\n",
    "    ax.set_xlabel(\"Delta R\")\n",
    "    ax.set_ylabel(\"Count\")\n",
    "    deta_r=np.array([])\n",
    "    for number_event in range(len(n_array[\"MissingET_size\"])):\n",
    "        enum=n_array[\"Electron_size\"][number_event]\n",
    "        mnum=n_array[\"Muon_size\"][number_event]\n",
    "        if (enum+mnum)!=4:\n",
    "            continue\n",
    "        for ie in range(enum):\n",
    "            dphi=n_array[\"Electron.Phi\"][number_event][ie]-n_array[\"MissingET.Phi\"][number_event]\n",
    "            while (dphi > np.pi):\n",
    "                dphi -= 2*np.pi\n",
    "            while (dphi < -np.pi):\n",
    "                dphi += 2*np.pi\n",
    "            dr=np.sqrt((n_array[\"Electron.Eta\"][number_event][ie]-n_array[\"MissingET.Eta\"][number_event])**2 + dphi**2)\n",
    "            deta_r=np.append(deta_r, dr)\n",
    "        for im in range(mnum):\n",
    "            dphi=n_array[\"Muon.Phi\"][number_event][im]-n_array[\"MissingET.Phi\"][number_event]\n",
    "            while (dphi > np.pi):\n",
    "                dphi -= 2*np.pi\n",
    "            while (dphi < -np.pi):\n",
    "                dphi += 2*np.pi\n",
    "            dr=np.sqrt((n_array[\"Muon.Eta\"][number_event][im]-n_array[\"MissingET.Eta\"][number_event])**2 + dphi**2)\n",
    "            deta_r=np.append(deta_r, dr) \n",
    "            \n",
    "    ax.hist(deta_r, bins=100, range=(0, 5))\n",
    "\n",
    "    plt.savefig(f\"DeltaR_MET_Leptons_{name}.png\")\n",
    "    plt.close()\n",
    "    return 1\n",
    "check_drFromMET(HZ4Lep_array, \"HZ4Lep\")"
   ]
  },
  {
   "cell_type": "code",
   "execution_count": 149,
   "id": "66d42501",
   "metadata": {},
   "outputs": [],
   "source": [
    "HZ4LepLFV = uproot.open(\"hz_hMuE_LFV.root\")\n",
    "\n",
    "HZ4LepLFV_tree = HZ4LepLFV[\"Delphes\"]\n",
    "column_arrays = [\"MissingET_size\",\"MissingET.Eta\",\"MissingET.Phi\",\"Jet_size\",\"Electron_size\",\"Electron.Eta\",\"Electron.Phi\",\"Muon_size\",\"Muon.Eta\",\"Muon.Phi\"]\n",
    "HZ4LepLFV_array = HZ4LepLFV_tree.arrays(column_arrays, library=\"np\")"
   ]
  },
  {
   "cell_type": "code",
   "execution_count": 150,
   "id": "a186bdc6",
   "metadata": {},
   "outputs": [
    {
     "data": {
      "text/plain": [
       "1"
      ]
     },
     "execution_count": 150,
     "metadata": {},
     "output_type": "execute_result"
    }
   ],
   "source": [
    "check_drFromMET(HZ4LepLFV_array, \"HZ4LepLFV\")"
   ]
  },
  {
   "cell_type": "code",
   "execution_count": null,
   "id": "af5663f3",
   "metadata": {},
   "outputs": [],
   "source": []
  }
 ],
 "metadata": {
  "kernelspec": {
   "display_name": "HEP",
   "language": "python",
   "name": "python3"
  },
  "language_info": {
   "codemirror_mode": {
    "name": "ipython",
    "version": 3
   },
   "file_extension": ".py",
   "mimetype": "text/x-python",
   "name": "python",
   "nbconvert_exporter": "python",
   "pygments_lexer": "ipython3",
   "version": "3.7.1"
  }
 },
 "nbformat": 4,
 "nbformat_minor": 5
}
