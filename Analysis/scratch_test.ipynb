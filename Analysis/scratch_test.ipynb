{
 "cells": [
  {
   "cell_type": "code",
   "execution_count": 132,
   "id": "c7df6fb3",
   "metadata": {},
   "outputs": [
    {
     "name": "stdout",
     "output_type": "stream",
     "text": [
      "Starting analysis...\n"
     ]
    }
   ],
   "source": [
    "#!/usr/bin/env python3\n",
    "import uproot\n",
    "import matplotlib.pyplot as plt\n",
    "import numpy as np\n",
    "import pandas as pd\n",
    "import time\n",
    "\n",
    "# Record the start time\n",
    "start_time = time.perf_counter()\n",
    "print(\"Starting analysis...\")\n",
    "HZ4Lep = uproot.open(\"hz_hww_4l.root\")\n",
    "HZ4Lep_tree = HZ4Lep[\"Delphes\"]\n",
    "column_arrays = [\"MissingET_size\",\"MissingET.Eta\",\"MissingET.Phi\",\"Jet_size\",\"Electron_size\",\"Electron.Eta\",\"Electron.Phi\",\"Muon_size\",\"Muon.Eta\",\"Muon.Phi\"]\n",
    "HZ4Lep_array = HZ4Lep_tree.arrays(column_arrays, library=\"np\", entry_stop=13)"
   ]
  },
  {
   "cell_type": "code",
   "execution_count": 134,
   "id": "a865deae",
   "metadata": {},
   "outputs": [
    {
     "ename": "KeyError",
     "evalue": "1",
     "output_type": "error",
     "traceback": [
      "\u001b[1;31m---------------------------------------------------------------------------\u001b[0m",
      "\u001b[1;31mKeyError\u001b[0m                                  Traceback (most recent call last)",
      "\u001b[1;32m~\\AppData\\Local\\Temp\\ipykernel_3988\\246761958.py\u001b[0m in \u001b[0;36m<module>\u001b[1;34m\u001b[0m\n\u001b[1;32m----> 1\u001b[1;33m \u001b[0mHZ4Lep_array\u001b[0m\u001b[1;33m[\u001b[0m\u001b[1;36m1\u001b[0m\u001b[1;33m]\u001b[0m\u001b[1;33m\u001b[0m\u001b[1;33m\u001b[0m\u001b[0m\n\u001b[0m",
      "\u001b[1;31mKeyError\u001b[0m: 1"
     ]
    }
   ],
   "source": [
    "\n",
    "HZ4Lep_array[1]"
   ]
  },
  {
   "cell_type": "code",
   "execution_count": 130,
   "id": "13d437b8",
   "metadata": {},
   "outputs": [
    {
     "data": {
      "text/plain": [
       "1"
      ]
     },
     "execution_count": 130,
     "metadata": {},
     "output_type": "execute_result"
    }
   ],
   "source": [
    "def check_drFromMET(n_array, name):\n",
    "    # Calculate delta R between MET and each lepton\n",
    "    fig=plt.figure()\n",
    "    ax=fig.add_subplot(111)\n",
    "    ax.set_title(f\"Delta R from MET to Leptons - {name}\")\n",
    "    ax.set_xlabel(\"Delta R\")\n",
    "    ax.set_ylabel(\"Count\")\n",
    "    deta_r=np.array([])\n",
    "    for number_event in range(len(n_array)):\n",
    "        enum=n_array[\"Electron_size\"][number_event]\n",
    "        for ie in range(enum):\n",
    "            dphi=n_array[\"Electron.Phi\"][number_event][ie]-n_array[\"MissingET.Phi\"][number_event]\n",
    "            while (dphi > np.pi):\n",
    "                dphi -= 2*np.pi\n",
    "            while (dphi < -np.pi):\n",
    "                dphi += 2*np.pi\n",
    "            dr=np.sqrt((n_array[\"Electron.Eta\"][number_event][ie]-n_array[\"MissingET.Eta\"][number_event])**2 + dphi**2)\n",
    "            deta_r=np.append(deta_r, dr)\n",
    "        mnum=n_array[\"Muon_size\"][number_event]\n",
    "        for im in range(mnum):\n",
    "            dphi=n_array[\"Muon.Phi\"][number_event][im]-n_array[\"MissingET.Phi\"][number_event]\n",
    "            while (dphi > np.pi):\n",
    "                dphi -= 2*np.pi\n",
    "            while (dphi < -np.pi):\n",
    "                dphi += 2*np.pi\n",
    "            dr=np.sqrt((n_array[\"Muon.Eta\"][number_event][im]-n_array[\"MissingET.Eta\"][number_event])**2 + dphi**2)\n",
    "            deta_r=np.append(deta_r, dr) \n",
    "            \n",
    "    ax.hist(deta_r, bins=100, range=(0, 5))\n",
    "\n",
    "    plt.savefig(f\"DeltaR_MET_Leptons_{name}.png\")\n",
    "    plt.close()\n",
    "    return 1\n",
    "check_drFromMET(HZ4Lep_array, \"HZ4Lep\")"
   ]
  },
  {
   "cell_type": "code",
   "execution_count": null,
   "id": "66d42501",
   "metadata": {},
   "outputs": [],
   "source": []
  }
 ],
 "metadata": {
  "kernelspec": {
   "display_name": "HEP",
   "language": "python",
   "name": "python3"
  },
  "language_info": {
   "codemirror_mode": {
    "name": "ipython",
    "version": 3
   },
   "file_extension": ".py",
   "mimetype": "text/x-python",
   "name": "python",
   "nbconvert_exporter": "python",
   "pygments_lexer": "ipython3",
   "version": "3.7.1"
  }
 },
 "nbformat": 4,
 "nbformat_minor": 5
}
