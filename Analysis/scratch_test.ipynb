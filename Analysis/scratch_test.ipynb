{
 "cells": [
  {
   "cell_type": "code",
   "execution_count": null,
   "id": "c7df6fb3",
   "metadata": {
    "vscode": {
     "languageId": "plaintext"
    }
   },
   "outputs": [],
   "source": [
    "#!/usr/bin/env python3\n",
    "import uproot\n",
    "import matplotlib.pyplot as plt\n",
    "import numpy as np\n",
    "import pandas as pd\n",
    "import time\n",
    "\n",
    "# Record the start time\n",
    "start_time = time.perf_counter()\n",
    "print(\"Starting analysis...\")\n",
    "HZ4Lep = uproot.open(\"hz_hww_4l.root\")\n",
    "HZ4Lep_tree = HZ4Lep[\"Delphes\"]\n",
    "column_arrays = [\"MissingET_size\",\"MissingET_Eta\",\"MissingET_Phi\",\"Jet_size\",\"Electron_size\",\"Electron_Eta\",\"Electron_Phi\",\"Muon_size\",\"Muon_Eta\",\"Muon_Phi\"]\n",
    "HZ4Lep_array = HZ4Lep_tree.arrays(column_arrays, library=\"pd\", entry_stop=1000)\n",
    "print(type(HZ4Lep_array[\"Electron_Eta\"][0]))"
   ]
  },
  {
   "cell_type": "code",
   "execution_count": null,
   "id": "beda8150",
   "metadata": {
    "vscode": {
     "languageId": "plaintext"
    }
   },
   "outputs": [],
   "source": []
  }
 ],
 "metadata": {
  "language_info": {
   "name": "python"
  }
 },
 "nbformat": 4,
 "nbformat_minor": 5
}
