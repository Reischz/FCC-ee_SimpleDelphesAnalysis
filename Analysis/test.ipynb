{
 "cells": [
  {
   "cell_type": "code",
   "execution_count": 3,
   "id": "2afffe5f",
   "metadata": {},
   "outputs": [],
   "source": [
    "import awkward as ak\n",
    "import numpy as np\n",
    "import vector\n",
    "import matplotlib.pyplot as plt\n",
    "import os"
   ]
  },
  {
   "cell_type": "code",
   "execution_count": 11,
   "id": "73ee5732",
   "metadata": {},
   "outputs": [
    {
     "name": "stdout",
     "output_type": "stream",
     "text": [
      "1\n",
      "[False, True, True, False]\n"
     ]
    }
   ],
   "source": [
    "a=ak.Array([1,-1,-1,1])\n",
    "b=ak.prod(a)\n",
    "c=1!=a\n",
    "print(b)\n",
    "print(c)"
   ]
  },
  {
   "cell_type": "code",
   "execution_count": 12,
   "id": "13b19032",
   "metadata": {},
   "outputs": [
    {
     "name": "stdout",
     "output_type": "stream",
     "text": [
      "[[(1.1, 100), (1.1, 200), (1.1, 300), (2.2, ...), (2.2, 200), (2.2, 300)],\n",
      " [(3.3, 400), (3.3, 500)]]\n",
      "None\n"
     ]
    }
   ],
   "source": [
    "# Array of leptons per event\n",
    "leptons = ak.Array([\n",
    "    [1.1, 2.2],   # Event 0 has 2 leptons\n",
    "    [3.3]         # Event 1 has 1 lepton\n",
    "])\n",
    "\n",
    "# Array of jets per event\n",
    "jets = ak.Array([\n",
    "    [100, 200, 300], # Event 0 has 3 jets\n",
    "    [400, 500]       # Event 1 has 2 jets\n",
    "])\n",
    "\n",
    "# Create lepton-jet pairs for each event\n",
    "lepton_jet_pairs = ak.cartesian([leptons, jets], axis=1)\n",
    "\n",
    "print(lepton_jet_pairs.show())"
   ]
  },
  {
   "cell_type": "code",
   "execution_count": 21,
   "id": "80e0eaaa",
   "metadata": {},
   "outputs": [
    {
     "data": {
      "text/html": [
       "<pre>[[1.1, 1.1, 1.1, 2.2, 2.2, 2.2],\n",
       " [3.3, 3.3]]\n",
       "--------------------------------\n",
       "backend: cpu\n",
       "nbytes: 88 B\n",
       "type: 2 * var * float64</pre>"
      ],
      "text/plain": [
       "<Array [[1.1, 1.1, 1.1, 2.2, 2.2, 2.2], [...]] type='2 * var * float64'>"
      ]
     },
     "execution_count": 21,
     "metadata": {},
     "output_type": "execute_result"
    }
   ],
   "source": [
    "lepton_jet_pairs[\"0\"]  # First lepton and first jet in event 0"
   ]
  },
  {
   "cell_type": "code",
   "execution_count": 26,
   "id": "d6708a36",
   "metadata": {},
   "outputs": [
    {
     "data": {
      "text/plain": [
       "(<Array [0, 3] type='2 * int64'>,)"
      ]
     },
     "execution_count": 26,
     "metadata": {},
     "output_type": "execute_result"
    }
   ],
   "source": [
    "d=ak.where(c==False)\n",
    "d"
   ]
  },
  {
   "cell_type": "code",
   "execution_count": 31,
   "id": "d2263b16",
   "metadata": {},
   "outputs": [
    {
     "data": {
      "text/html": [
       "<pre>[1,\n",
       " 2,\n",
       " 0,\n",
       " 3]\n",
       "---\n",
       "backend: cpu\n",
       "nbytes: 32 B\n",
       "type: 4 * int64</pre>"
      ],
      "text/plain": [
       "<Array [1, 2, 0, 3] type='4 * int64'>"
      ]
     },
     "execution_count": 31,
     "metadata": {},
     "output_type": "execute_result"
    }
   ],
   "source": [
    "e=ak.argsort(a)\n",
    "e"
   ]
  },
  {
   "cell_type": "code",
   "execution_count": 26,
   "id": "d6980aaa",
   "metadata": {},
   "outputs": [],
   "source": [
    "a={'1':1,'2':2,'1':3}"
   ]
  },
  {
   "cell_type": "code",
   "execution_count": 27,
   "id": "ab1fd0fe",
   "metadata": {},
   "outputs": [
    {
     "data": {
      "text/plain": [
       "{'1': 3, '2': 2}"
      ]
     },
     "execution_count": 27,
     "metadata": {},
     "output_type": "execute_result"
    }
   ],
   "source": [
    "a"
   ]
  },
  {
   "cell_type": "code",
   "execution_count": null,
   "id": "8a34a4ef",
   "metadata": {},
   "outputs": [],
   "source": []
  }
 ],
 "metadata": {
  "kernelspec": {
   "display_name": "Python 3 (ipykernel)",
   "language": "python",
   "name": "python3"
  },
  "language_info": {
   "codemirror_mode": {
    "name": "ipython",
    "version": 3
   },
   "file_extension": ".py",
   "mimetype": "text/x-python",
   "name": "python",
   "nbconvert_exporter": "python",
   "pygments_lexer": "ipython3",
   "version": "3.10.14"
  }
 },
 "nbformat": 4,
 "nbformat_minor": 5
}
