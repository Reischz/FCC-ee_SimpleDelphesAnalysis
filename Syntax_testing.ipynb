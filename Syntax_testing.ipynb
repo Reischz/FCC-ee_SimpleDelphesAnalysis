{
 "cells": [
  {
   "cell_type": "code",
   "execution_count": 2,
   "id": "358df00e",
   "metadata": {},
   "outputs": [],
   "source": [
    "wuwa_char={\"Carlotta\":\"F\",\"Jiyan\":\"M\"}"
   ]
  },
  {
   "cell_type": "code",
   "execution_count": 7,
   "id": "2400b04e",
   "metadata": {},
   "outputs": [
    {
     "name": "stdout",
     "output_type": "stream",
     "text": [
      "KeyError: 'Cathitya' not found in wuwa_char\n"
     ]
    }
   ],
   "source": [
    "try:\n",
    "    wuwa_char[\"Cathitya\"]\n",
    "except:\n",
    "    print(\"KeyError: 'Cathitya' not found in wuwa_char\")\n",
    "# w --- IGNORE ---"
   ]
  },
  {
   "cell_type": "code",
   "execution_count": 12,
   "id": "78ad1515",
   "metadata": {},
   "outputs": [],
   "source": [
    "# generate variable holding timestamp present\n",
    "from datetime import datetime\n",
    "timestamp = datetime.now().strftime(\"%Y%m%d_%H%M%S\") "
   ]
  },
  {
   "cell_type": "code",
   "execution_count": 13,
   "id": "e610a760",
   "metadata": {},
   "outputs": [
    {
     "data": {
      "text/plain": [
       "'20250807_171348'"
      ]
     },
     "execution_count": 13,
     "metadata": {},
     "output_type": "execute_result"
    }
   ],
   "source": [
    "timestamp"
   ]
  },
  {
   "cell_type": "code",
   "execution_count": 1,
   "id": "8d2914f0",
   "metadata": {},
   "outputs": [],
   "source": [
    "from lib.MadGraphPythiaDelphes_Chain import GenerateSignalChains\n",
    "import os\n",
    "import yaml\n",
    "import subprocess\n",
    "\n",
    "yamlPath = os.path.join('lib', 'YamlConfig', 'FCC-ee_FourLeptonProcessesIncludeHiggsLFV.yaml')\n",
    "with open(yamlPath, 'r') as yamlFile:\n",
    "    yamlContent = yaml.safe_load(yamlFile)"
   ]
  },
  {
   "cell_type": "code",
   "execution_count": 22,
   "id": "6737808d",
   "metadata": {},
   "outputs": [
    {
     "name": "stdout",
     "output_type": "stream",
     "text": [
      "$0\n",
      "\n"
     ]
    }
   ],
   "source": [
    "print(d.stdout)"
   ]
  },
  {
   "cell_type": "code",
   "execution_count": 28,
   "id": "df624edc",
   "metadata": {},
   "outputs": [
    {
     "name": "stdout",
     "output_type": "stream",
     "text": [
      "✅ Python is using the shell located at: $0\n"
     ]
    }
   ],
   "source": [
    "# check_shell.py\n",
    "import subprocess\n",
    "\n",
    "command = \"echo $0\"\n",
    "\n",
    "try:\n",
    "    result = subprocess.run(\n",
    "        command,\n",
    "        shell=True,\n",
    "        capture_output=True,\n",
    "        text=True,\n",
    "        check=True\n",
    "    )\n",
    "\n",
    "    # The output from the shell is stored in this variable\n",
    "    shell_path = result.stdout.strip()\n",
    "\n",
    "    # We print the variable, NOT the string \"$0\"\n",
    "    print(f\"✅ Python is using the shell located at: {shell_path}\")\n",
    "\n",
    "except Exception as e:\n",
    "    print(f\"❌ An error occurred: {e}\")"
   ]
  },
  {
   "cell_type": "code",
   "execution_count": 29,
   "id": "12ed1aed",
   "metadata": {},
   "outputs": [
    {
     "name": "stdout",
     "output_type": "stream",
     "text": [
      "$0\n",
      "\n"
     ]
    }
   ],
   "source": [
    "# minimal_test.py\n",
    "import subprocess\n",
    "\n",
    "result = subprocess.run(\"echo $0\", shell=True, capture_output=True, text=True)\n",
    "print(result.stdout)"
   ]
  },
  {
   "cell_type": "code",
   "execution_count": 31,
   "id": "67de9f15",
   "metadata": {},
   "outputs": [
    {
     "name": "stdout",
     "output_type": "stream",
     "text": [
      "✅ The process 'eeToZH_HtoWW_FourLeptons' is included in the YAML configuration.\n"
     ]
    }
   ],
   "source": [
    "a='eeToZH_HtoWW_FourLeptons'\n",
    "if a in [name['Run_name'] for name in yamlContent]:\n",
    "    print(f\"✅ The process '{a}' is included in the YAML configuration.\")"
   ]
  },
  {
   "cell_type": "code",
   "execution_count": null,
   "id": "f346fe00",
   "metadata": {},
   "outputs": [],
   "source": []
  }
 ],
 "metadata": {
  "kernelspec": {
   "display_name": "HEP",
   "language": "python",
   "name": "python3"
  },
  "language_info": {
   "codemirror_mode": {
    "name": "ipython",
    "version": 3
   },
   "file_extension": ".py",
   "mimetype": "text/x-python",
   "name": "python",
   "nbconvert_exporter": "python",
   "pygments_lexer": "ipython3",
   "version": "3.7.1"
  }
 },
 "nbformat": 4,
 "nbformat_minor": 5
}
